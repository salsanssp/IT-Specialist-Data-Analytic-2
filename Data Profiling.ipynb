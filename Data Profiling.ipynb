{
 "cells": [
  {
   "cell_type": "markdown",
   "id": "ebb6a0a6-eb77-4ad0-9659-aae1ba1cdf1d",
   "metadata": {},
   "source": [
    "## Outlier and Anomaly"
   ]
  },
  {
   "cell_type": "markdown",
   "id": "12fa38cd-0578-4a23-9124-0b2ab9a51455",
   "metadata": {},
   "source": [
    "Anomaly = Outlier\n",
    "\n",
    "Outlier <> Anomaly"
   ]
  },
  {
   "cell_type": "code",
   "execution_count": 10,
   "id": "cca218e9-ff02-4942-af1a-9f9d14263539",
   "metadata": {},
   "outputs": [],
   "source": [
    "# import packages\n",
    "\n",
    "import pandas as pd\n",
    "import numpy as np\n",
    "import matplotlib.pyplot as plt\n",
    "import seaborn as sns\n",
    "\n",
    "from sklearn.preprocessing import OrdinalEncoder\n",
    "from sklearn.preprocessing import OneHotEncoder\n",
    "from sklearn.preprocessing import StandardScaler\n",
    "\n",
    "from sklearn.model_selection import train_test_split\n",
    "from sklearn.ensemble import ExtraTreesClassifier\n",
    "\n",
    "import warnings\n",
    "warnings.filterwarnings('ignore')"
   ]
  },
  {
   "cell_type": "code",
   "execution_count": 11,
   "id": "7ef8ff4e-b098-498b-9ed7-42554899aacc",
   "metadata": {},
   "outputs": [],
   "source": [
    "#load dataset\n",
    "df= pd.read_csv('Train.csv')"
   ]
  },
  {
   "cell_type": "code",
   "execution_count": 12,
   "id": "42e633c7-44d6-46dc-9e69-e36faf0b4261",
   "metadata": {},
   "outputs": [
    {
     "name": "stdout",
     "output_type": "stream",
     "text": [
      "<class 'pandas.core.frame.DataFrame'>\n",
      "RangeIndex: 8068 entries, 0 to 8067\n",
      "Data columns (total 11 columns):\n",
      " #   Column           Non-Null Count  Dtype  \n",
      "---  ------           --------------  -----  \n",
      " 0   ID               8068 non-null   int64  \n",
      " 1   Gender           8068 non-null   object \n",
      " 2   Ever_Married     7928 non-null   object \n",
      " 3   Age              8068 non-null   int64  \n",
      " 4   Graduated        7990 non-null   object \n",
      " 5   Profession       7944 non-null   object \n",
      " 6   Work_Experience  7239 non-null   float64\n",
      " 7   Spending_Score   8068 non-null   object \n",
      " 8   Family_Size      7733 non-null   float64\n",
      " 9   Var_1            7992 non-null   object \n",
      " 10  Segmentation     8068 non-null   object \n",
      "dtypes: float64(2), int64(2), object(7)\n",
      "memory usage: 693.5+ KB\n"
     ]
    }
   ],
   "source": [
    "df.info()"
   ]
  },
  {
   "cell_type": "code",
   "execution_count": 13,
   "id": "9817d1fb-cb94-4448-ab46-5c7d649e4a98",
   "metadata": {},
   "outputs": [
    {
     "data": {
      "text/html": [
       "<div>\n",
       "<style scoped>\n",
       "    .dataframe tbody tr th:only-of-type {\n",
       "        vertical-align: middle;\n",
       "    }\n",
       "\n",
       "    .dataframe tbody tr th {\n",
       "        vertical-align: top;\n",
       "    }\n",
       "\n",
       "    .dataframe thead th {\n",
       "        text-align: right;\n",
       "    }\n",
       "</style>\n",
       "<table border=\"1\" class=\"dataframe\">\n",
       "  <thead>\n",
       "    <tr style=\"text-align: right;\">\n",
       "      <th></th>\n",
       "      <th>ID</th>\n",
       "      <th>Gender</th>\n",
       "      <th>Ever_Married</th>\n",
       "      <th>Age</th>\n",
       "      <th>Graduated</th>\n",
       "      <th>Profession</th>\n",
       "      <th>Work_Experience</th>\n",
       "      <th>Spending_Score</th>\n",
       "      <th>Family_Size</th>\n",
       "      <th>Var_1</th>\n",
       "      <th>Segmentation</th>\n",
       "    </tr>\n",
       "  </thead>\n",
       "  <tbody>\n",
       "    <tr>\n",
       "      <th>0</th>\n",
       "      <td>462809</td>\n",
       "      <td>Male</td>\n",
       "      <td>No</td>\n",
       "      <td>22</td>\n",
       "      <td>No</td>\n",
       "      <td>Healthcare</td>\n",
       "      <td>1.0</td>\n",
       "      <td>Low</td>\n",
       "      <td>4.0</td>\n",
       "      <td>Cat_4</td>\n",
       "      <td>D</td>\n",
       "    </tr>\n",
       "    <tr>\n",
       "      <th>1</th>\n",
       "      <td>462643</td>\n",
       "      <td>Female</td>\n",
       "      <td>Yes</td>\n",
       "      <td>38</td>\n",
       "      <td>Yes</td>\n",
       "      <td>Engineer</td>\n",
       "      <td>NaN</td>\n",
       "      <td>Average</td>\n",
       "      <td>3.0</td>\n",
       "      <td>Cat_4</td>\n",
       "      <td>A</td>\n",
       "    </tr>\n",
       "    <tr>\n",
       "      <th>2</th>\n",
       "      <td>466315</td>\n",
       "      <td>Female</td>\n",
       "      <td>Yes</td>\n",
       "      <td>67</td>\n",
       "      <td>Yes</td>\n",
       "      <td>Engineer</td>\n",
       "      <td>1.0</td>\n",
       "      <td>Low</td>\n",
       "      <td>1.0</td>\n",
       "      <td>Cat_6</td>\n",
       "      <td>B</td>\n",
       "    </tr>\n",
       "    <tr>\n",
       "      <th>3</th>\n",
       "      <td>461735</td>\n",
       "      <td>Male</td>\n",
       "      <td>Yes</td>\n",
       "      <td>67</td>\n",
       "      <td>Yes</td>\n",
       "      <td>Lawyer</td>\n",
       "      <td>0.0</td>\n",
       "      <td>High</td>\n",
       "      <td>2.0</td>\n",
       "      <td>Cat_6</td>\n",
       "      <td>B</td>\n",
       "    </tr>\n",
       "    <tr>\n",
       "      <th>4</th>\n",
       "      <td>462669</td>\n",
       "      <td>Female</td>\n",
       "      <td>Yes</td>\n",
       "      <td>40</td>\n",
       "      <td>Yes</td>\n",
       "      <td>Entertainment</td>\n",
       "      <td>NaN</td>\n",
       "      <td>High</td>\n",
       "      <td>6.0</td>\n",
       "      <td>Cat_6</td>\n",
       "      <td>A</td>\n",
       "    </tr>\n",
       "  </tbody>\n",
       "</table>\n",
       "</div>"
      ],
      "text/plain": [
       "       ID  Gender Ever_Married  Age Graduated     Profession  Work_Experience  \\\n",
       "0  462809    Male           No   22        No     Healthcare              1.0   \n",
       "1  462643  Female          Yes   38       Yes       Engineer              NaN   \n",
       "2  466315  Female          Yes   67       Yes       Engineer              1.0   \n",
       "3  461735    Male          Yes   67       Yes         Lawyer              0.0   \n",
       "4  462669  Female          Yes   40       Yes  Entertainment              NaN   \n",
       "\n",
       "  Spending_Score  Family_Size  Var_1 Segmentation  \n",
       "0            Low          4.0  Cat_4            D  \n",
       "1        Average          3.0  Cat_4            A  \n",
       "2            Low          1.0  Cat_6            B  \n",
       "3           High          2.0  Cat_6            B  \n",
       "4           High          6.0  Cat_6            A  "
      ]
     },
     "execution_count": 13,
     "metadata": {},
     "output_type": "execute_result"
    }
   ],
   "source": [
    "#preview dataset\n",
    "df.head()"
   ]
  },
  {
   "cell_type": "markdown",
   "id": "1c864ea8-448e-4dd0-881f-ce5294b16dce",
   "metadata": {},
   "source": [
    "for check anomaly and outlier you can use Boxplot\n",
    "\n",
    "But if you want the detail you can use NumPy percentile"
   ]
  },
  {
   "cell_type": "code",
   "execution_count": 14,
   "id": "02724eb9-df54-4eb1-9b16-6aa62cfa4cbc",
   "metadata": {},
   "outputs": [
    {
     "data": {
      "image/png": "[encoded data removed]",
      "text/plain": [
       "<Figure size 640x480 with 1 Axes>"
      ]
     },
     "metadata": {},
     "output_type": "display_data"
    }
   ],
   "source": [
    "sns.boxplot(df['Age']);"
   ]
  },
  {
   "cell_type": "code",
   "execution_count": 15,
   "id": "6125876b-3c07-46b9-933b-f9f5ff1aae57",
   "metadata": {},
   "outputs": [],
   "source": [
    "df1 = df[['Age']]"
   ]
  },
  {
   "cell_type": "markdown",
   "id": "e77c31da-ca25-4b76-9d26-19999a3a4851",
   "metadata": {},
   "source": [
    "make sure the data is not null\n"
   ]
  },
  {
   "cell_type": "code",
   "execution_count": 16,
   "id": "cb529048-d57a-4f5e-8f9a-497692ed5693",
   "metadata": {},
   "outputs": [],
   "source": [
    "df_age_notnull = df['Age'][df['Age'].notnull()]"
   ]
  },
  {
   "cell_type": "markdown",
   "id": "fc5e4ab7-c4e1-4c4d-ae93-1e87ed46f219",
   "metadata": {},
   "source": [
    "Findign first quartile and third quartile"
   ]
  },
  {
   "cell_type": "code",
   "execution_count": 17,
   "id": "87d76c58-295b-4a31-9bfc-9524f6591660",
   "metadata": {},
   "outputs": [
    {
     "name": "stdout",
     "output_type": "stream",
     "text": [
      "30.0 53.0\n"
     ]
    }
   ],
   "source": [
    "q1, q3= np.percentile(df_age_notnull,[25,75])\n",
    "print(q1,q3)"
   ]
  },
  {
   "cell_type": "markdown",
   "id": "910866fe-7dc6-45b6-88c9-e3fea2d25321",
   "metadata": {},
   "source": [
    "find the IQR which is the difference between third and first quartile"
   ]
  },
  {
   "cell_type": "code",
   "execution_count": 18,
   "id": "e5a0c55d-dc35-45f3-8887-b327440fba01",
   "metadata": {},
   "outputs": [
    {
     "name": "stdout",
     "output_type": "stream",
     "text": [
      "23.0\n"
     ]
    }
   ],
   "source": [
    "iqr = q3 - q1\n",
    "print(iqr)"
   ]
  },
  {
   "cell_type": "markdown",
   "id": "1f5c3229-b66e-4fd0-86f0-74ac4f2e55bc",
   "metadata": {},
   "source": [
    "find lower and upper bound"
   ]
  },
  {
   "cell_type": "code",
   "execution_count": 19,
   "id": "f29f5f79-0e85-4ff9-b767-427551a37f2d",
   "metadata": {},
   "outputs": [
    {
     "name": "stdout",
     "output_type": "stream",
     "text": [
      "-4.5\n",
      "87.5\n"
     ]
    }
   ],
   "source": [
    "lower_bound = q1 -(1.5 * iqr)\n",
    "upper_bound = q3 +(1.5 * iqr)\n",
    "\n",
    "print(lower_bound)\n",
    "print(upper_bound)"
   ]
  }
 ],
 "metadata": {
  "kernelspec": {
   "display_name": "Python 3 (ipykernel)",
   "language": "python",
   "name": "python3"
  },
  "language_info": {
   "codemirror_mode": {
    "name": "ipython",
    "version": 3
   },
   "file_extension": ".py",
   "mimetype": "text/x-python",
   "name": "python",
   "nbconvert_exporter": "python",
   "pygments_lexer": "ipython3",
   "version": "3.11.7"
  }
 },
 "nbformat": 4,
 "nbformat_minor": 5
}
