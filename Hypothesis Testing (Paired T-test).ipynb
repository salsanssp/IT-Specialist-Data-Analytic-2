{
 "cells": [
  {
   "cell_type": "markdown",
   "id": "a18f929f",
   "metadata": {},
   "source": [
    "# Hypothesis Testing"
   ]
  },
  {
   "cell_type": "markdown",
   "id": "ae6260ee",
   "metadata": {},
   "source": [
    "Hypothesis testing is a statistical technique utilized to evaluate assertions or hypotheses about a population through the examination of sample data. The primary objective is to determine if there's enough evidence to support or reject a claim regarding a particular population parameter.\n",
    "\n",
    "This process generally involves two hypotheses:\n",
    "\n",
    "* the null hypothesis (H0), and\n",
    "* the alternative hypothesis (H1)."
   ]
  },
  {
   "cell_type": "code",
   "execution_count": 1,
   "id": "84372a49",
   "metadata": {},
   "outputs": [],
   "source": [
    "#run first the library dont forget\n",
    "\n",
    "import pandas as pd\n",
    "from scipy import stats\n",
    "from statsmodels.stats import weightstats as stests"
   ]
  },
  {
   "cell_type": "code",
   "execution_count": 2,
   "id": "09476ba0",
   "metadata": {},
   "outputs": [],
   "source": [
    "#load the dataset\n",
    "\n",
    "df = pd.read_csv('Golf.csv')"
   ]
  },
  {
   "cell_type": "code",
   "execution_count": 11,
   "id": "c5cbd251",
   "metadata": {},
   "outputs": [
    {
     "data": {
      "text/html": [
       "<div>\n",
       "<style scoped>\n",
       "    .dataframe tbody tr th:only-of-type {\n",
       "        vertical-align: middle;\n",
       "    }\n",
       "\n",
       "    .dataframe tbody tr th {\n",
       "        vertical-align: top;\n",
       "    }\n",
       "\n",
       "    .dataframe thead th {\n",
       "        text-align: right;\n",
       "    }\n",
       "</style>\n",
       "<table border=\"1\" class=\"dataframe\">\n",
       "  <thead>\n",
       "    <tr style=\"text-align: right;\">\n",
       "      <th></th>\n",
       "      <th>Current</th>\n",
       "      <th>New</th>\n",
       "    </tr>\n",
       "  </thead>\n",
       "  <tbody>\n",
       "    <tr>\n",
       "      <th>0</th>\n",
       "      <td>264</td>\n",
       "      <td>277</td>\n",
       "    </tr>\n",
       "    <tr>\n",
       "      <th>1</th>\n",
       "      <td>261</td>\n",
       "      <td>269</td>\n",
       "    </tr>\n",
       "    <tr>\n",
       "      <th>2</th>\n",
       "      <td>267</td>\n",
       "      <td>263</td>\n",
       "    </tr>\n",
       "    <tr>\n",
       "      <th>3</th>\n",
       "      <td>272</td>\n",
       "      <td>266</td>\n",
       "    </tr>\n",
       "    <tr>\n",
       "      <th>4</th>\n",
       "      <td>258</td>\n",
       "      <td>262</td>\n",
       "    </tr>\n",
       "  </tbody>\n",
       "</table>\n",
       "</div>"
      ],
      "text/plain": [
       "   Current  New\n",
       "0      264  277\n",
       "1      261  269\n",
       "2      267  263\n",
       "3      272  266\n",
       "4      258  262"
      ]
     },
     "execution_count": 11,
     "metadata": {},
     "output_type": "execute_result"
    }
   ],
   "source": [
    "#preview the dataset\n",
    "\n",
    "df[['Current','New']].describe()\n",
    "df.head(5)"
   ]
  },
  {
   "cell_type": "code",
   "execution_count": 6,
   "id": "e8bf64ff",
   "metadata": {},
   "outputs": [
    {
     "name": "stdout",
     "output_type": "stream",
     "text": [
      "<class 'pandas.core.frame.DataFrame'>\n",
      "RangeIndex: 40 entries, 0 to 39\n",
      "Data columns (total 2 columns):\n",
      " #   Column   Non-Null Count  Dtype\n",
      "---  ------   --------------  -----\n",
      " 0   Current  40 non-null     int64\n",
      " 1   New      40 non-null     int64\n",
      "dtypes: int64(2)\n",
      "memory usage: 772.0 bytes\n"
     ]
    }
   ],
   "source": [
    "df.info()"
   ]
  },
  {
   "cell_type": "code",
   "execution_count": 5,
   "id": "e3d212cc",
   "metadata": {},
   "outputs": [
    {
     "data": {
      "text/plain": [
       "(40, 2)"
      ]
     },
     "execution_count": 5,
     "metadata": {},
     "output_type": "execute_result"
    }
   ],
   "source": [
    "#look how many data (column and row)\n",
    "\n",
    "df.shape"
   ]
  },
  {
   "cell_type": "markdown",
   "id": "13f9807c",
   "metadata": {},
   "source": [
    "## **Paired sample t-test:**\n",
    "\n",
    "* The paires sample t-test is also called dependent sample-t test\n",
    "* Its an uni-variate that test for a significant difference between 2 related variables."
   ]
  },
  {
   "cell_type": "markdown",
   "id": "33412d32",
   "metadata": {},
   "source": [
    "Here's an example, to see if the new coating does have a significant effect on driving range.\n",
    "\n",
    "H0: is there's no significant difference between the distance traveled by the current ball without coating and the new ball with coating\n",
    "\n",
    "H1: is there's a significant difference between the distance traveled by the current ball without coating and the new ball with coating"
   ]
  },
  {
   "cell_type": "code",
   "execution_count": 12,
   "id": "cb8d1981",
   "metadata": {},
   "outputs": [
    {
     "name": "stdout",
     "output_type": "stream",
     "text": [
      "0.20916361823147053\n"
     ]
    }
   ],
   "source": [
    "ttest,pval = stats.ttest_rel(df['Current'], df['New'])\n",
    "print(pval)"
   ]
  },
  {
   "cell_type": "markdown",
   "id": "0bdea450",
   "metadata": {},
   "source": [
    "P-value is a value that shows how strong the evidence is for the null hypothesis in a statistical test. This calculation produces a p-value of 0.20916361823147053."
   ]
  },
  {
   "cell_type": "markdown",
   "id": "8a261e23",
   "metadata": {},
   "source": [
    "Alpha is a significance level that indicates the limit for accepting or rejecting the null hypothesis in statistical analysis. Commonly used alpha values are 0.05 or 5%, although sometimes other values such as 0.01 or 0.10 may also be used depending on the context.\n",
    "\n",
    "**But, we want to use an alpha of 0.05 as the tolerance error limit.**"
   ]
  },
  {
   "cell_type": "code",
   "execution_count": 14,
   "id": "f73d4f79",
   "metadata": {},
   "outputs": [
    {
     "name": "stdout",
     "output_type": "stream",
     "text": [
      "accept null hypothesis\n"
     ]
    }
   ],
   "source": [
    "if pval<0.05:\n",
    "    print(\"reject null hypothesis\")\n",
    "else:\n",
    "    print(\"accept null hypothesis\")"
   ]
  },
  {
   "cell_type": "markdown",
   "id": "3a514784",
   "metadata": {},
   "source": [
    "After we use an alpha of 5 percent or 0.05, it turns out that the p-value is 0.209 > alpha 0.05, so that means we accept H0, which means there's no significant difference between the distance traveled by the current ball without coating and the new ball with coating."
   ]
  }
 ],
 "metadata": {
  "kernelspec": {
   "display_name": "Python 3 (ipykernel)",
   "language": "python",
   "name": "python3"
  },
  "language_info": {
   "codemirror_mode": {
    "name": "ipython",
    "version": 3
   },
   "file_extension": ".py",
   "mimetype": "text/x-python",
   "name": "python",
   "nbconvert_exporter": "python",
   "pygments_lexer": "ipython3",
   "version": "3.11.7"
  }
 },
 "nbformat": 4,
 "nbformat_minor": 5
}
